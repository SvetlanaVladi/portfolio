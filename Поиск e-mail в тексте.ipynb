{
 "cells": [
  {
   "cell_type": "markdown",
   "id": "056c5c7d",
   "metadata": {},
   "source": [
    "На вход даётся текст. Необходимо вывести все e-mail адреса, которые в нём встречаются. При этом e-mail не может быть частью слова, то есть слева и справа от e-mail должен быть либо конец строки, либо не-буква и при этом не один из символов '._+-, допустимых в адресе.\n",
    "\n",
    "В качестве дополнительных ограничений можно обратиться к RFC: tools.ietf.org/html/rfc5322\n",
    "\n",
    "Пример: n..m@ittensive_com (support@ittensive.com), help@ittensive.com!, reg3exp@ittensive.com\n",
    "\n",
    "Выдаст support@ittensive.com help@ittensive.com reg3exp@ittensive.com"
   ]
  },
  {
   "cell_type": "code",
   "execution_count": 15,
   "id": "3bd3f272",
   "metadata": {},
   "outputs": [
    {
     "name": "stdout",
     "output_type": "stream",
     "text": [
      "Введите текст: n..m@ittensive_com (support@ittensive.com), help@ittensive.com!, reg3exp@ittensive.com\n",
      "support@ittensive.com\n",
      "help@ittensive.com\n",
      "reg3exp@ittensive.com\n"
     ]
    }
   ],
   "source": [
    "import re\n",
    "\n",
    "text = input(\"Введите текст: \")\n",
    "emails = re.findall(r'(?<![\\w._+-])([a-zA-Z0-9._+-]+@[a-zA-Z0-9._-]+\\.[a-zA-Z0-9_-]+)(?![\\w._+-])', text)\n",
    "\n",
    "for email in emails:\n",
    "    print(email)"
   ]
  },
  {
   "cell_type": "markdown",
   "id": "62fcd4c0",
   "metadata": {},
   "source": [
    " (?<![\\w._+-]): Это называется \"negative lookbehind\" и означает, что перед началом совпадения не должно быть букв, цифр или специальных символов (\".\", \"_\", \"+\", \"-\"). То есть, это проверка на отсутствие определенных символов перед адресом.\n",
    "\n",
    " ([a-zA-Z0-9._+-]+@[a-zA-Z0-9._-]+\\.[a-zA-Z0-9_-]+): Это сама часть, которая ищет e-mail адрес. Она состоит из следующих элементов:\n",
    "   - [a-zA-Z0-9._+-]+: Любая комбинация букв, цифр и специальных символов (\".\", \"_\", \"+\", \"-\") до символа \"@\".\n",
    "   - @: Символ \"@\".\n",
    "   - [a-zA-Z0-9._-]+: Любая комбинация букв, цифр и специальных символов (\".\", \"_\", \"-\") после символа \"@\" до точки.\n",
    "   - \\.: Символ точки.\n",
    "   - [a-zA-Z0-9_-]+: Любая комбинация букв, цифр и специальных символов (\"_\", \"-\") после точки (доменное имя).\n",
    "\n",
    " (?![\\w._+-]): Это называется \"negative lookahead\" и означает, что после окончания совпадения не должно быть букв, цифр или специальных символов (\".\", \"_\", \"+\", \"-\"). То есть, это проверка на отсутствие определенных символов после адреса."
   ]
  }
 ],
 "metadata": {
  "kernelspec": {
   "display_name": "Python 3 (ipykernel)",
   "language": "python",
   "name": "python3"
  },
  "language_info": {
   "codemirror_mode": {
    "name": "ipython",
    "version": 3
   },
   "file_extension": ".py",
   "mimetype": "text/x-python",
   "name": "python",
   "nbconvert_exporter": "python",
   "pygments_lexer": "ipython3",
   "version": "3.10.7"
  }
 },
 "nbformat": 4,
 "nbformat_minor": 5
}
