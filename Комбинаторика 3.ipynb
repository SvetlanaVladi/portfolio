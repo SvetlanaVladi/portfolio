{
 "cells": [
  {
   "cell_type": "markdown",
   "id": "6c7b4f7f",
   "metadata": {},
   "source": [
    "Рассчитайте выгоду (относительный прирост вероятности) при смене решения в парадоксе Монти Холла при 4, 8, 9 и 12 возможностях.\n",
    "Например, при 3 возможностям относительный прирост вероятности равен:\n",
    "(Новая_вероятность - прежняя_вероятность) / прежняя_вероятность = (2/3 - 1/3)/(1/3) = 100%"
   ]
  },
  {
   "cell_type": "code",
   "execution_count": 5,
   "id": "e1219119",
   "metadata": {},
   "outputs": [
    {
     "name": "stdout",
     "output_type": "stream",
     "text": [
      "0.5\n",
      "0.17\n",
      "0.14\n",
      "0.1\n"
     ]
    }
   ],
   "source": [
    "def monty_hall(n):\n",
    "    return round(1/(n-2), 2)\n",
    "\n",
    "print(monty_hall(4))\n",
    "print(monty_hall(8))\n",
    "print(monty_hall(9))\n",
    "print(monty_hall(12))"
   ]
  }
 ],
 "metadata": {
  "kernelspec": {
   "display_name": "Python 3 (ipykernel)",
   "language": "python",
   "name": "python3"
  },
  "language_info": {
   "codemirror_mode": {
    "name": "ipython",
    "version": 3
   },
   "file_extension": ".py",
   "mimetype": "text/x-python",
   "name": "python",
   "nbconvert_exporter": "python",
   "pygments_lexer": "ipython3",
   "version": "3.10.7"
  }
 },
 "nbformat": 4,
 "nbformat_minor": 5
}
