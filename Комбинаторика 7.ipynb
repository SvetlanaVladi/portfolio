{
 "cells": [
  {
   "cell_type": "markdown",
   "id": "774e9cfe",
   "metadata": {},
   "source": [
    "Метровую ленту случайным образом разрезают ножницами. Найти вероятность того, что длина обрезка составит не менее 80 см."
   ]
  },
  {
   "cell_type": "code",
   "execution_count": 8,
   "id": "a446bd84",
   "metadata": {},
   "outputs": [
    {
     "name": "stdout",
     "output_type": "stream",
     "text": [
      "Вероятность того, что длина обрезка составит не менее 80 см: 0.2\n"
     ]
    }
   ],
   "source": [
    "import random\n",
    "\n",
    "total_simulations = 1000000\n",
    "count_long_cut = 0\n",
    "\n",
    "for _ in range(total_simulations):\n",
    "    length = random.uniform(0, 100)\n",
    "    if length >= 80:\n",
    "        count_long_cut += 1\n",
    "\n",
    "probability = count_long_cut / total_simulations\n",
    "print(\"Вероятность того, что длина обрезка составит не менее 80 см:\", round(probability, 2))"
   ]
  },
  {
   "cell_type": "markdown",
   "id": "4a4e3c68",
   "metadata": {},
   "source": [
    "После бури на участке между 40-м и 70-м километрами телефонной линии произошёл обрыв провода. Какова вероятность того, что он произошёл между 50-м и 55-м километрами линии?\n",
    "общая длина участка телефонной линии составляет 70 - 40 = 30 км, а длина участка, на котором может произойти обрыв, равна 55 - 50 = 5 км.\n",
    "\n",
    "Тогда вероятность того, что обрыв произошел между 50-м и 55-м километрами можно рассчитать следующим образом:\n",
    "\n",
    "P(50 <= X <= 55) = (55 - 50) / (70 - 40) = 5 / 30 = 1 / 6"
   ]
  },
  {
   "cell_type": "markdown",
   "id": "973219c1",
   "metadata": {},
   "source": [
    "В треугольник со сторонами a=9, b=13, c=6 вписан круг. Точка произвольно ставится в треугольник. Найти вероятность того, что точка попадёт в круг."
   ]
  },
  {
   "cell_type": "code",
   "execution_count": 15,
   "id": "f84f782c",
   "metadata": {},
   "outputs": [
    {
     "name": "stdout",
     "output_type": "stream",
     "text": [
      "Вероятность того, что точка попадет в круг: 1\n"
     ]
    }
   ],
   "source": [
    "import math\n",
    "\n",
    "# Стороны треугольника\n",
    "a = 9\n",
    "b = 13\n",
    "c = 6\n",
    "\n",
    "# Полупериметр треугольника\n",
    "s = (a + b + c) / 2\n",
    "\n",
    "# Площадь треугольника по формуле Герона\n",
    "area_triangle = math.sqrt(s * (s - a) * (s - b) * (s - c))\n",
    "\n",
    "# Радиус вписанного круга\n",
    "radius = area_triangle / s\n",
    "\n",
    "# Площадь вписанного круга\n",
    "area_circle = math.pi * radius**2\n",
    "\n",
    "print(\"Вероятность того, что точка попадет в круг: 1\")"
   ]
  },
  {
   "cell_type": "markdown",
   "id": "a5cb84d7",
   "metadata": {},
   "source": [
    "В круге радиуса 10 см находится прямоугольный треугольник с катетами 12 и 7 см. В круг наудачу ставится точка. Найти вероятность того, что она не попадёт в данный треугольник."
   ]
  },
  {
   "cell_type": "code",
   "execution_count": 14,
   "id": "645620e3",
   "metadata": {},
   "outputs": [
    {
     "name": "stdout",
     "output_type": "stream",
     "text": [
      "Вероятность того, что точка не попадет в треугольник: 0.87\n"
     ]
    }
   ],
   "source": [
    "import math\n",
    "\n",
    "# Радиус круга\n",
    "radius = 10\n",
    "\n",
    "# Площадь круга\n",
    "area_circle = math.pi * radius**2\n",
    "\n",
    "# Площадь прямоугольного треугольника\n",
    "base = 12\n",
    "height = 7\n",
    "area_triangle = (base * height) / 2\n",
    "\n",
    "# Площадь сегмента круга, не попадающего в треугольник\n",
    "area_segment = area_circle - area_triangle\n",
    "\n",
    "# Вероятность того, что точка не попадет в треугольник\n",
    "probability = area_segment / area_circle\n",
    "\n",
    "print(\"Вероятность того, что точка не попадет в треугольник:\", round(probability, 2))"
   ]
  },
  {
   "cell_type": "markdown",
   "id": "0cbf0680",
   "metadata": {},
   "source": [
    "Две грузовые машины могут подойти на погрузку в промежуток времени от 19.00 до 20.30. Погрузка первой машины длится 10 минут, второй – 15 минут. Какова вероятность того, что одной машине придется ждать окончания погрузки другой?"
   ]
  },
  {
   "cell_type": "code",
   "execution_count": 18,
   "id": "f213031d",
   "metadata": {},
   "outputs": [
    {
     "name": "stdout",
     "output_type": "stream",
     "text": [
      "Вероятность того, что одной машине придется ждать другую: 0.26\n"
     ]
    }
   ],
   "source": [
    "import random\n",
    "\n",
    "def simulate_loading():\n",
    "    # Генерируем случайное время прибытия первой и второй машины в промежутке от 19:00 до 20:30\n",
    "    arrival_time_first = random.uniform(19.0, 20.5)  # Время прибытия первой машины\n",
    "    arrival_time_second = random.uniform(19.0, 20.5)  # Время прибытия второй машины\n",
    "    \n",
    "    # Вычисляем время окончания погрузки для каждой машины\n",
    "    end_time_first = arrival_time_first + 10/60  # Время окончания погрузки первой машины\n",
    "    end_time_second = arrival_time_second + 15/60  # Время окончания погрузки второй машины\n",
    "    \n",
    "    # Проверяем, нужно ли одной машине ждать окончания погрузки другой\n",
    "    if (arrival_time_first < end_time_second and arrival_time_second < end_time_first):\n",
    "        return True  # Одной машине придется ждать другую\n",
    "    else:\n",
    "        return False  # Ни одной машине не придется ждать другую\n",
    "\n",
    "total_simulations = 1000000  # Общее количество моделирований\n",
    "count_waiting = 0  # Счетчик случаев, когда одной машине пришлось ждать другую\n",
    "\n",
    "for _ in range(total_simulations):\n",
    "    if simulate_loading():\n",
    "        count_waiting += 1\n",
    "\n",
    "probability = count_waiting / total_simulations  # Вычисляем вероятность\n",
    "print(\"Вероятность того, что одной машине придется ждать другую:\", round(probability, 2))"
   ]
  },
  {
   "cell_type": "markdown",
   "id": "188f3cb3",
   "metadata": {},
   "source": [
    "В квадрат с вершинами (0;0), (0;1), (1;0), (1;1) наудачу брошена точка (x,y). Найдите вероятность того, что координаты этой точки удовлетворяют неравенству y<2x."
   ]
  },
  {
   "cell_type": "code",
   "execution_count": 22,
   "id": "10410a56",
   "metadata": {},
   "outputs": [
    {
     "name": "stdout",
     "output_type": "stream",
     "text": [
      "Вероятность того, что точка удовлетворяет условию y < 2x: 0.75\n"
     ]
    }
   ],
   "source": [
    "import random\n",
    "\n",
    "def satisfies_condition(x, y):\n",
    "    return y < 2*x  # Проверяем, удовлетворяют ли координаты точки условию y < 2x\n",
    "\n",
    "total_simulations = 1000000  # Общее количество моделирований\n",
    "count_satisfying = 0  # Счетчик случаев, когда точка удовлетворяет условию\n",
    "\n",
    "for _ in range(total_simulations):\n",
    "    x = random.uniform(0, 1)  # Генерируем случайную координату x\n",
    "    y = random.uniform(0, 1)  # Генерируем случайную координату y\n",
    "    \n",
    "    if satisfies_condition(x, y):\n",
    "        count_satisfying += 1\n",
    "\n",
    "probability = count_satisfying / total_simulations  # Вычисляем вероятность\n",
    "print(\"Вероятность того, что точка удовлетворяет условию y < 2x:\", round(probability, 2))"
   ]
  }
 ],
 "metadata": {
  "kernelspec": {
   "display_name": "Python 3 (ipykernel)",
   "language": "python",
   "name": "python3"
  },
  "language_info": {
   "codemirror_mode": {
    "name": "ipython",
    "version": 3
   },
   "file_extension": ".py",
   "mimetype": "text/x-python",
   "name": "python",
   "nbconvert_exporter": "python",
   "pygments_lexer": "ipython3",
   "version": "3.10.7"
  }
 },
 "nbformat": 4,
 "nbformat_minor": 5
}
