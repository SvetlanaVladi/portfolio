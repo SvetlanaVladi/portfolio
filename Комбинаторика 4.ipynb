{
 "cells": [
  {
   "cell_type": "markdown",
   "id": "9b2b1c19",
   "metadata": {},
   "source": [
    "Найдите среднее число бросаний игрального кубика, если мы останавливаемся, получив шестёрку."
   ]
  },
  {
   "cell_type": "code",
   "execution_count": 19,
   "id": "15f6cb1f",
   "metadata": {},
   "outputs": [
    {
     "name": "stdout",
     "output_type": "stream",
     "text": [
      "Среднее число бросаний игрального кубика, до выпадения 6: 6.065\n"
     ]
    }
   ],
   "source": [
    "import random\n",
    "\n",
    "count = 0  # подсчитываем количество бросков до выпадения значения 6\n",
    "n = 1000   # количество итераций (бросков), которое мы будем выполнять\n",
    "for i in range(n):\n",
    "    while True:     # Бесконечный цикл, который будет продолжаться, пока не выпадет значение 6\n",
    "        side_cube = random.randint(1,6)   # бросок игрального кубика\n",
    "        count += 1                        #  Увеличиваем счетчик бросков\n",
    "        if side_cube == 6:        # Если выпало значение 6, то выходим из цикла while\n",
    "            break\n",
    "print(f\"Среднее число бросаний игрального кубика, до выпадения 6: {count/n}\")"
   ]
  }
 ],
 "metadata": {
  "kernelspec": {
   "display_name": "Python 3 (ipykernel)",
   "language": "python",
   "name": "python3"
  },
  "language_info": {
   "codemirror_mode": {
    "name": "ipython",
    "version": 3
   },
   "file_extension": ".py",
   "mimetype": "text/x-python",
   "name": "python",
   "nbconvert_exporter": "python",
   "pygments_lexer": "ipython3",
   "version": "3.10.7"
  }
 },
 "nbformat": 4,
 "nbformat_minor": 5
}
