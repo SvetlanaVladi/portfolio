{
 "cells": [
  {
   "cell_type": "markdown",
   "id": "e45155b4",
   "metadata": {},
   "source": [
    "Боря, Дима и Володя сели играть в «очко». Сколькими способами им можно сдать по одной карте? (колода содержит 36 карт)\n",
    "\n",
    "Правило произведения. Пусть требуется выполнить последовательно k действий. Если первое действие можно выполнить n1 способами, второе действие n2 способами, третье – n3 способами и так до k-го действия, которое можно выполнить nk способами, то все k действий вместе могут быть выполнены числом способов."
   ]
  },
  {
   "cell_type": "code",
   "execution_count": 1,
   "id": "4efe51e5",
   "metadata": {},
   "outputs": [
    {
     "name": "stdout",
     "output_type": "stream",
     "text": [
      "42840\n"
     ]
    }
   ],
   "source": [
    "# правило произведения\n",
    "\n",
    "res = 36 * 35 * 34\n",
    "print(res)"
   ]
  },
  {
   "cell_type": "markdown",
   "id": "00690791",
   "metadata": {},
   "source": [
    "Студенческая группа состоит из 23 человек, среди которых 10 юношей и 13 девушек. Сколькими способами можно выбрать двух человек одного пола?\n",
    "\n",
    "Модуль itertools в Python предоставляет функции для создания итераторов для эффективной работы с данными, такими как перестановки, сочетания, комбинации и т. д.\n",
    "itertools.combinations используется для генерации всех возможных комбинаций длины 2 из этой последовательности, такие как (1, 2), (1, 3), и (2, 3)."
   ]
  },
  {
   "cell_type": "code",
   "execution_count": 14,
   "id": "d6a5bf37",
   "metadata": {},
   "outputs": [
    {
     "name": "stdout",
     "output_type": "stream",
     "text": [
      "45\n",
      "78\n",
      "123\n"
     ]
    }
   ],
   "source": [
    "# сочетания без поворений\n",
    "\n",
    "import itertools\n",
    "\n",
    "# количество юношей и девушек\n",
    "boys = 10\n",
    "girls = 13\n",
    "\n",
    "# количество способов выбрать двух человек одного пола\n",
    "boys_comb = list(itertools.combinations(range(boys), 2))\n",
    "girls_comb = list(itertools.combinations(range(girls), 2))\n",
    "print(len(boys_comb))\n",
    "print(len(girls_comb))\n",
    "\n",
    "# вычисление общего количества способов\n",
    "total_comb = len(boys_comb) + len(girls_comb)\n",
    "\n",
    "print(total_comb) "
   ]
  },
  {
   "cell_type": "markdown",
   "id": "5b197adb",
   "metadata": {},
   "source": [
    "У Васи дома живут 4 кота. Сколькими способами Вася может взять на руки двух котов (одного на левую, другого – на правую)?"
   ]
  },
  {
   "cell_type": "code",
   "execution_count": 15,
   "id": "c87b42eb",
   "metadata": {},
   "outputs": [
    {
     "name": "stdout",
     "output_type": "stream",
     "text": [
      "12\n"
     ]
    }
   ],
   "source": [
    "# правило произведения \n",
    "\n",
    "res = 4 * 3\n",
    "print(res)"
   ]
  },
  {
   "cell_type": "markdown",
   "id": "d28e2060",
   "metadata": {},
   "source": [
    "Согласно государственному стандарту, автомобильный номерной знак состоит из 3 цифр и 3 букв. При этом недопустим номер с тремя нулями, а буквы выбираются из набора А, В, Е, К, М, Н, О, Р, С, Т, У, Х (используются только те буквы кириллицы, написание которых совпадает с латинскими буквами).Сколько различных номерных знаков можно составить для каждого региона?\n",
    "\n",
    "Для составления номерного знака сначала идут три цифры, которые могут быть любыми от 0 до 9, за исключением номеров, в которых все цифры равны нулю. Это 10 ** 3 - 1.\n",
    "Затем идут три буквы, которые могут быть выбраны из 12 доступных букв, это 12** 3.\n",
    "Общее количество различных номерных знаков можно посчитать, умножив количество вариантов для цифр на количество вариантов для букв."
   ]
  },
  {
   "cell_type": "code",
   "execution_count": 19,
   "id": "00ddb3c8",
   "metadata": {},
   "outputs": [
    {
     "data": {
      "text/plain": [
       "1726272"
      ]
     },
     "execution_count": 19,
     "metadata": {},
     "output_type": "execute_result"
    }
   ],
   "source": [
    "comb_numbers = 10**3 - 1\n",
    "comb_words = 12**3 \n",
    "comb_car_numbers = comb_numbers * comb_words \n",
    "comb_car_numbers"
   ]
  },
  {
   "cell_type": "markdown",
   "id": "c288901f",
   "metadata": {},
   "source": [
    "В кошельке находится достаточно большое количество 1-, 2-, 5- и 10-рублёвых монет. Сколькими способами можно извлечь три монеты из кошелька (монеты одинакового достоинства неразличимы)?"
   ]
  },
  {
   "cell_type": "code",
   "execution_count": 22,
   "id": "e5e8b1a4",
   "metadata": {},
   "outputs": [
    {
     "name": "stdout",
     "output_type": "stream",
     "text": [
      "20.0\n"
     ]
    }
   ],
   "source": [
    "# сочетания с повторениями\n",
    "import math\n",
    "\n",
    "m = 3\n",
    "n = 4\n",
    "\n",
    "res = math.factorial(n + m - 1) / (math.factorial(m) * math.factorial(n-1))\n",
    "print(res)"
   ]
  },
  {
   "cell_type": "code",
   "execution_count": 23,
   "id": "9a9964fa",
   "metadata": {},
   "outputs": [
    {
     "name": "stdout",
     "output_type": "stream",
     "text": [
      "20\n"
     ]
    }
   ],
   "source": [
    "import itertools\n",
    "\n",
    "# Создаем список с количеством каждой монеты\n",
    "coins = [1, 2, 5, 10]\n",
    "# Создаем список всех возможных комбинаций извлечения трех монет\n",
    "# Функция combinations_with_replacement позволяет создавать комбинации с повторением элементов\n",
    "combinations = list(itertools.combinations_with_replacement(coins, 3))\n",
    "# Выводим количество всех возможных комбинаций\n",
    "print(len(combinations))"
   ]
  }
 ],
 "metadata": {
  "kernelspec": {
   "display_name": "Python 3 (ipykernel)",
   "language": "python",
   "name": "python3"
  },
  "language_info": {
   "codemirror_mode": {
    "name": "ipython",
    "version": 3
   },
   "file_extension": ".py",
   "mimetype": "text/x-python",
   "name": "python",
   "nbconvert_exporter": "python",
   "pygments_lexer": "ipython3",
   "version": "3.10.7"
  }
 },
 "nbformat": 4,
 "nbformat_minor": 5
}
