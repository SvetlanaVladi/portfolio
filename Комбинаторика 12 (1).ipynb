{
 "cells": [
  {
   "cell_type": "markdown",
   "id": "51197ef4",
   "metadata": {},
   "source": [
    "Игрок имеет 99 USDT на криптовалютной бирже. Вероятность заработать 1 USDT в результате 1 раунда торгов равна 0,45, потерять - 0,55. С какой вероятностью игрок когда-нибудь заработает 100 USDT (прежде, чем все потерять)?"
   ]
  },
  {
   "cell_type": "code",
   "execution_count": 1,
   "id": "a3f949a8",
   "metadata": {},
   "outputs": [
    {
     "name": "stdout",
     "output_type": "stream",
     "text": [
      "0.9216120636907636\n"
     ]
    }
   ],
   "source": [
    "dp = [[0.0 for _ in range(200)] for _ in range(200)]\n",
    "dp[0][99] = 1.0\n",
    "\n",
    "for i in range(1, 200):\n",
    "    for j in range(1, 199):\n",
    "        dp[i][j] = 0.45 * dp[i-1][j+1] + 0.55 * dp[i-1][j-1]\n",
    "\n",
    "result = sum(dp[199][100:])\n",
    "print(result)"
   ]
  },
  {
   "cell_type": "markdown",
   "id": "842cccc1",
   "metadata": {},
   "source": [
    "Рассмотрим ту же «невыгодную» игровую ситуацию, при которой вероятность потерять равна 0,55, а выиграть - 0,45. И начальный капитал игрока равен уже 90 USDT, но каждый раз он ставит по 10 USDT на кон. Какова вероятность выиграть (получить на балансе 100 USDT прежде, чем разориться) для игрока?"
   ]
  },
  {
   "cell_type": "code",
   "execution_count": 6,
   "id": "efa2a71e",
   "metadata": {},
   "outputs": [
    {
     "name": "stdout",
     "output_type": "stream",
     "text": [
      "0.035046693608071874\n"
     ]
    }
   ],
   "source": [
    "dp = [[0.0 for _ in range(2000)] for _ in range(200)]\n",
    "\n",
    "# Устанавливаем вероятность 1.0 для достижения 90 USDT после 0 шагов\n",
    "dp[0][90] = 1.0\n",
    "\n",
    "for i in range(1, 200):\n",
    "    for j in range(1, 199):\n",
    "        dp[i][j] = 0.45 * dp[i-1][j+10] + 0.55 * dp[i-1][j-10]\n",
    "\n",
    "result = sum(dp[199][100:])\n",
    "print(result)"
   ]
  }
 ],
 "metadata": {
  "kernelspec": {
   "display_name": "Python 3 (ipykernel)",
   "language": "python",
   "name": "python3"
  },
  "language_info": {
   "codemirror_mode": {
    "name": "ipython",
    "version": 3
   },
   "file_extension": ".py",
   "mimetype": "text/x-python",
   "name": "python",
   "nbconvert_exporter": "python",
   "pygments_lexer": "ipython3",
   "version": "3.10.7"
  }
 },
 "nbformat": 4,
 "nbformat_minor": 5
}
